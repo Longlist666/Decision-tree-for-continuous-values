{
  "nbformat": 4,
  "nbformat_minor": 0,
  "metadata": {
    "colab": {
      "name": "performance-evaluation-to-sklearn.ipynb",
      "provenance": [],
      "authorship_tag": "ABX9TyNJCKgPS/daMdIcoT2CbO/8",
      "include_colab_link": true
    },
    "kernelspec": {
      "name": "python3",
      "display_name": "Python 3"
    },
    "language_info": {
      "name": "python"
    }
  },
  "cells": [
    {
      "cell_type": "markdown",
      "metadata": {
        "id": "view-in-github",
        "colab_type": "text"
      },
      "source": [
        "<a href=\"https://colab.research.google.com/github/Vincent-Fuecks/Decision-tree-from-scratch/blob/main/performance_evaluation_to_sklearn.ipynb\" target=\"_parent\"><img src=\"https://colab.research.google.com/assets/colab-badge.svg\" alt=\"Open In Colab\"/></a>"
      ]
    },
    {
      "cell_type": "code",
      "execution_count": 41,
      "metadata": {
        "colab": {
          "base_uri": "https://localhost:8080/"
        },
        "id": "fAzYt5OI1yKl",
        "outputId": "abe55475-c9fb-450e-fc41-112fdf19918f"
      },
      "outputs": [
        {
          "output_type": "stream",
          "name": "stdout",
          "text": [
            "Cloning into 'income-analysis-USA'...\n",
            "remote: Enumerating objects: 183, done.\u001b[K\n",
            "remote: Counting objects: 100% (20/20), done.\u001b[K\n",
            "remote: Compressing objects: 100% (20/20), done.\u001b[K\n",
            "remote: Total 183 (delta 6), reused 0 (delta 0), pack-reused 163\u001b[K\n",
            "Receiving objects: 100% (183/183), 805.80 KiB | 1.36 MiB/s, done.\n",
            "Resolving deltas: 100% (91/91), done.\n",
            "/content/income-analysis-USA/utils/income-analysis-USA/utils/Decision-tree-from-scratch/income-analysis-USA/utils/Decision-tree-from-scratch/income-analysis-USA/utils\n",
            "Cloning into 'Decision-tree-from-scratch'...\n",
            "remote: Enumerating objects: 50, done.\u001b[K\n",
            "remote: Counting objects: 100% (50/50), done.\u001b[K\n",
            "remote: Compressing objects: 100% (48/48), done.\u001b[K\n",
            "remote: Total 50 (delta 11), reused 0 (delta 0), pack-reused 0\u001b[K\n",
            "Unpacking objects: 100% (50/50), done.\n",
            "/content/income-analysis-USA/utils/income-analysis-USA/utils/Decision-tree-from-scratch/income-analysis-USA/utils/Decision-tree-from-scratch/income-analysis-USA/utils/Decision-tree-from-scratch\n"
          ]
        }
      ],
      "source": [
        "import pandas as pd\n",
        "import numpy as np\n",
        "import matplotlib.pyplot as plt\n",
        "import sklearn.metrics as metrics\n",
        "import importlib \n",
        "\n",
        "from sklearn.tree import DecisionTreeClassifier\n",
        "\n",
        "!git clone https://github.com/Letifery/income-analysis-USA.git\n",
        "%cd income-analysis-USA/utils/ \n",
        "fdp = importlib.import_module(\"data-preparation\")\n",
        "\n",
        "!git clone https://github.com/Vincent-Fuecks/Decision-tree-from-scratch.git\n",
        "%cd Decision-tree-from-scratch/ \n",
        "\n",
        "dt = importlib.import_module(\"decision-tree\")"
      ]
    },
    {
      "cell_type": "code",
      "source": [
        "df = pd.read_csv(\"https://archive.ics.uci.edu/ml/machine-learning-databases/adult/adult.data\", sep=',', header=None)\n",
        "df = df.set_axis(['age', 'workclass','fnlwgt', 'education','education-num', 'marital-status','occupation', 'relationship',\n",
        "                   'race', 'sex','capital-gain', 'capital-loss','hours-per-week', 'native-country','income'], axis=1, inplace=False)"
      ],
      "metadata": {
        "id": "udelOMj62dxw"
      },
      "execution_count": 42,
      "outputs": []
    },
    {
      "cell_type": "code",
      "source": [
        "df = fdp.feature_selection(df)\n",
        "df_fac = fdp.factorize(df)\n",
        "split = int(np.shape(np.array(df))[0]*0.8)\n",
        "X = np.array(df)[:, :-1]\n",
        "y = np.array(df)[:, -1]\n",
        "\n",
        "X_train, X_test, y_train, y_test = X[:-split, :], X[-split:, :], y[:-split], y[-split:]\n",
        "\n",
        "X_fac = np.array(df_fac)[:, :-1]\n",
        "y_fac = np.array(df_fac)[:, -1]\n",
        "\n",
        "X_train_fac, X_test_fac, y_train_fac, y_test_fac = X_fac[:-split, :], X_fac[-split:, :], y_fac[:-split], y_fac[-split:]"
      ],
      "metadata": {
        "id": "TzkrHDAM2gkC"
      },
      "execution_count": 43,
      "outputs": []
    },
    {
      "cell_type": "code",
      "source": [
        "clf = DecisionTreeClassifier(criterion = \"gini\", splitter = \"best\", max_depth = 9.0)\n",
        "clf = clf.fit(X_train_fac, y_train_fac)\n",
        "print(clf.score(X_test_fac, y_test_fac)*100)"
      ],
      "metadata": {
        "colab": {
          "base_uri": "https://localhost:8080/"
        },
        "id": "DbgMtsq09BX4",
        "outputId": "2e214039-470d-4ba6-fe81-a43f74135ceb"
      },
      "execution_count": 50,
      "outputs": [
        {
          "output_type": "stream",
          "name": "stdout",
          "text": [
            "82.68417943007772\n"
          ]
        }
      ]
    },
    {
      "cell_type": "code",
      "source": [
        "DT = dt.DT(2, 10)\n",
        "DT.fit(X_train, y_train)\n",
        "root, kind_of_features = DT.built_tree()\n",
        "print(\"Accuracy:\", DT.predict(X_test, y_test, root, kind_of_features))"
      ],
      "metadata": {
        "colab": {
          "base_uri": "https://localhost:8080/"
        },
        "id": "oNiNoNPA2VPf",
        "outputId": "6873a165-e617-44f2-8070-8b1e3d407306"
      },
      "execution_count": 51,
      "outputs": [
        {
          "output_type": "stream",
          "name": "stdout",
          "text": [
            "Accuracy: 80.48902422396947\n"
          ]
        }
      ]
    }
  ]
}