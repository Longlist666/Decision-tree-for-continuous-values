{
  "nbformat": 4,
  "nbformat_minor": 0,
  "metadata": {
    "colab": {
      "name": "dt-evaluation-to-sklearn.ipynb",
      "provenance": [],
      "collapsed_sections": [],
      "authorship_tag": "ABX9TyPOJ5dI2Bb0S+d0X+xANjOU",
      "include_colab_link": true
    },
    "kernelspec": {
      "name": "python3",
      "display_name": "Python 3"
    },
    "language_info": {
      "name": "python"
    }
  },
  "cells": [
    {
      "cell_type": "markdown",
      "metadata": {
        "id": "view-in-github",
        "colab_type": "text"
      },
      "source": [
        "<a href=\"https://colab.research.google.com/github/Vincent-Fuecks/Decision-tree-from-scratch/blob/main/dt-evaluation-to-sklearn.ipynb\" target=\"_parent\"><img src=\"https://colab.research.google.com/assets/colab-badge.svg\" alt=\"Open In Colab\"/></a>"
      ]
    },
    {
      "cell_type": "code",
      "execution_count": 4,
      "metadata": {
        "colab": {
          "base_uri": "https://localhost:8080/"
        },
        "id": "fAzYt5OI1yKl",
        "outputId": "ae74d14c-7fe1-4f2c-b95e-bebc91730dd1"
      },
      "outputs": [
        {
          "output_type": "stream",
          "name": "stdout",
          "text": [
            "Cloning into 'income-analysis-USA'...\n",
            "remote: Enumerating objects: 183, done.\u001b[K\n",
            "remote: Counting objects:   5% (1/20)\u001b[K\rremote: Counting objects:  10% (2/20)\u001b[K\rremote: Counting objects:  15% (3/20)\u001b[K\rremote: Counting objects:  20% (4/20)\u001b[K\rremote: Counting objects:  25% (5/20)\u001b[K\rremote: Counting objects:  30% (6/20)\u001b[K\rremote: Counting objects:  35% (7/20)\u001b[K\rremote: Counting objects:  40% (8/20)\u001b[K\rremote: Counting objects:  45% (9/20)\u001b[K\rremote: Counting objects:  50% (10/20)\u001b[K\rremote: Counting objects:  55% (11/20)\u001b[K\rremote: Counting objects:  60% (12/20)\u001b[K\rremote: Counting objects:  65% (13/20)\u001b[K\rremote: Counting objects:  70% (14/20)\u001b[K\rremote: Counting objects:  75% (15/20)\u001b[K\rremote: Counting objects:  80% (16/20)\u001b[K\rremote: Counting objects:  85% (17/20)\u001b[K\rremote: Counting objects:  90% (18/20)\u001b[K\rremote: Counting objects:  95% (19/20)\u001b[K\rremote: Counting objects: 100% (20/20)\u001b[K\rremote: Counting objects: 100% (20/20), done.\u001b[K\n",
            "remote: Compressing objects: 100% (20/20), done.\u001b[K\n",
            "remote: Total 183 (delta 6), reused 0 (delta 0), pack-reused 163\u001b[K\n",
            "Receiving objects: 100% (183/183), 805.80 KiB | 8.57 MiB/s, done.\n",
            "Resolving deltas: 100% (91/91), done.\n",
            "/content/income-analysis-USA/utils/Decision-tree-from-scratch/income-analysis-USA/utils\n",
            "Cloning into 'Decision-tree-from-scratch'...\n",
            "remote: Enumerating objects: 53, done.\u001b[K\n",
            "remote: Counting objects: 100% (53/53), done.\u001b[K\n",
            "remote: Compressing objects: 100% (51/51), done.\u001b[K\n",
            "remote: Total 53 (delta 12), reused 0 (delta 0), pack-reused 0\u001b[K\n",
            "Unpacking objects: 100% (53/53), done.\n",
            "/content/income-analysis-USA/utils/Decision-tree-from-scratch/income-analysis-USA/utils/Decision-tree-from-scratch\n"
          ]
        }
      ],
      "source": [
        "import pandas as pd\n",
        "import numpy as np\n",
        "import importlib \n",
        "import time\n",
        "\n",
        "from sklearn.tree import DecisionTreeClassifier\n",
        "\n",
        "!git clone https://github.com/Letifery/income-analysis-USA.git\n",
        "%cd income-analysis-USA/utils/ \n",
        "fdp = importlib.import_module(\"data-preparation\")\n",
        "\n",
        "!git clone https://github.com/Vincent-Fuecks/Decision-tree-from-scratch.git\n",
        "%cd Decision-tree-from-scratch/ \n",
        "\n",
        "dt = importlib.import_module(\"decision-tree\")"
      ]
    },
    {
      "cell_type": "code",
      "source": [
        "df = pd.read_csv(\"https://archive.ics.uci.edu/ml/machine-learning-databases/adult/adult.data\", sep=',', header=None)\n",
        "df = df.set_axis(['age', 'workclass','fnlwgt', 'education','education-num', 'marital-status','occupation', 'relationship',\n",
        "                   'race', 'sex','capital-gain', 'capital-loss','hours-per-week', 'native-country','income'], axis=1, inplace=False)"
      ],
      "metadata": {
        "id": "udelOMj62dxw"
      },
      "execution_count": 5,
      "outputs": []
    },
    {
      "cell_type": "code",
      "source": [
        "df = fdp.feature_selection(df)\n",
        "df_fac = fdp.factorize(df)\n",
        "# 80 % X/y_train, 20% X/y_test\n",
        "split = int(np.shape(np.array(df))[0]*0.8)\n",
        "\n",
        "# Separate splits for sklearn Tree and Decision Tree from scratch, because sklearn can't handle \n",
        "# String, like my classifiers can (all values need to be transformed to numerical values)\n",
        "X = np.array(df)[:, :-1]\n",
        "y = np.array(df)[:, -1]\n",
        "X_train, X_test, y_train, y_test = X[:-split, :], X[-split:, :], y[:-split], y[-split:]\n",
        "\n",
        "X_fac = np.array(df_fac)[:, :-1]\n",
        "y_fac = np.array(df_fac)[:, -1]\n",
        "X_train_fac, X_test_fac, y_train_fac, y_test_fac = X_fac[:-split, :], X_fac[-split:, :], y_fac[:-split], y_fac[-split:]"
      ],
      "metadata": {
        "id": "TzkrHDAM2gkC"
      },
      "execution_count": 6,
      "outputs": []
    },
    {
      "cell_type": "code",
      "source": [
        "# Use best found DecisionTree parameters form project https://github.com/Letifery/income-analysis-USA\n",
        "clf = DecisionTreeClassifier(criterion = \"gini\", splitter = \"best\", max_depth = 9.0)\n",
        "clf = clf.fit(X_train_fac, y_train_fac)\n",
        "print(\"Sklearn Decision Tree\")\n",
        "start_time = time.time()\n",
        "print(\"Accuracy:\",clf.score(X_test_fac, y_test_fac)*100)\n",
        "print(\"--- %s seconds ---\" % (time.time() - start_time)) "
      ],
      "metadata": {
        "colab": {
          "base_uri": "https://localhost:8080/"
        },
        "id": "DbgMtsq09BX4",
        "outputId": "80300516-8647-40fc-ee00-ab49f3692aec"
      },
      "execution_count": 7,
      "outputs": [
        {
          "output_type": "stream",
          "name": "stdout",
          "text": [
            "Sklearn Decision Tree\n",
            "Accuracy: 82.76598645639231\n",
            "--- 0.010688543319702148 seconds ---\n"
          ]
        }
      ]
    },
    {
      "cell_type": "code",
      "source": [
        "DT = dt.DT(2, 10)\n",
        "DT.fit(X_train, y_train)\n",
        "root, kind_of_features = DT.built_tree()\n",
        "print(\"Decision Tree from scratch\")\n",
        "start_time = time.time()\n",
        "print(\"Accuracy:\", DT.predict(X_test, y_test, root, kind_of_features))\n",
        "print(\"--- %s seconds ---\" % (time.time() - start_time)) "
      ],
      "metadata": {
        "colab": {
          "base_uri": "https://localhost:8080/"
        },
        "id": "oNiNoNPA2VPf",
        "outputId": "016c2980-fc3f-406a-ee39-0b41d73f71c0"
      },
      "execution_count": 8,
      "outputs": [
        {
          "output_type": "stream",
          "name": "stdout",
          "text": [
            "Decision Tree from scratch\n",
            "Accuracy: 80.48902422396947\n",
            "--- 0.613422155380249 seconds ---\n"
          ]
        }
      ]
    }
  ]
}